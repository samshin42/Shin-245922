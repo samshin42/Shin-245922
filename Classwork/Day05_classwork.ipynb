{
 "cells": [
  {
   "cell_type": "markdown",
   "metadata": {},
   "source": [
    "# <center>SM286D - Day 05 Classwork</center>\n",
    "## <center>CAPT Foraker & CDR Lazzaro</center>"
   ]
  },
  {
   "cell_type": "markdown",
   "metadata": {},
   "source": [
    "## Topics for today:\n",
    " 1. Why do we need dictionaries?\n",
    " 2. Dictionary basics\n",
    " 3. Useful dictionary methods"
   ]
  },
  {
   "cell_type": "markdown",
   "metadata": {},
   "source": [
    " ### 1.  Why do we need dictionaries?\n",
    " \n",
    " - Suppose we have a collection of cities and their corresponding populations as shown in the table below.\n",
    "\n",
    "| City | Population |\n",
    "| ---- | -------------- |\n",
    "| Annapolis | 38,394 |\n",
    "| Baltimore | 620,961 |\n",
    "| Frederick | 65,239 |\n",
    "| Rockville | 61,209 |\n",
    "| College Park | 30,413 |\n",
    "\n",
    " - We would like to associate each city with its corresponding population.  \n",
    " - One way to do this would be to use lists as shown in the code block below."
   ]
  },
  {
   "cell_type": "code",
   "execution_count": 1,
   "metadata": {},
   "outputs": [
    {
     "name": "stdout",
     "output_type": "stream",
     "text": [
      "Annapolis has population 38394\n",
      "Baltimore has population 620961\n",
      "Frederick has population 65239\n",
      "Rockville has population 61209\n",
      "College Park has population 30413\n"
     ]
    }
   ],
   "source": [
    "# List of cities and corresponding populations\n",
    "cities = ['Annapolis', 'Baltimore', 'Frederick', 'Rockville', 'College Park']\n",
    "population = [38394, 620961, 65239, 61209, 30413]\n",
    "\n",
    "# Print the population of each city\n",
    "for i in range(len(cities)):\n",
    "    print(f'{cities[i]} has population {population[i]}')"
   ]
  },
  {
   "cell_type": "markdown",
   "metadata": {},
   "source": [
    " - Suppose now we decide to sort the cities in alphabetical order, like this:"
   ]
  },
  {
   "cell_type": "code",
   "execution_count": 2,
   "metadata": {},
   "outputs": [
    {
     "name": "stdout",
     "output_type": "stream",
     "text": [
      "['Annapolis', 'Baltimore', 'College Park', 'Frederick', 'Rockville']\n"
     ]
    }
   ],
   "source": [
    "# Sort list of cities in alphabetical order\n",
    "cities.sort()\n",
    "\n",
    "# Print to check our work\n",
    "print(cities)"
   ]
  },
  {
   "cell_type": "markdown",
   "metadata": {},
   "source": [
    " - What happens if we run the `for` loop we wrote above to print the population of each city?"
   ]
  },
  {
   "cell_type": "code",
   "execution_count": 3,
   "metadata": {},
   "outputs": [
    {
     "name": "stdout",
     "output_type": "stream",
     "text": [
      "Annapolis has population 38394\n",
      "Baltimore has population 620961\n",
      "College Park has population 65239\n",
      "Frederick has population 61209\n",
      "Rockville has population 30413\n"
     ]
    }
   ],
   "source": [
    "# Print the population of each city\n",
    "for i in range(len(cities)):\n",
    "    print(f'{cities[i]} has population {population[i]}')"
   ]
  },
  {
   "cell_type": "markdown",
   "metadata": {},
   "source": [
    " - We see that the cities are no longer properly associated with their populations.  \n",
    " - One way to solve this type of issue is to use a new data structure called a **dictionary**.  "
   ]
  },
  {
   "cell_type": "markdown",
   "metadata": {},
   "source": [
    "### 2. Dictionary basics\n",
    "\n",
    "* A __dictionary__ is another way to organize a collection of items.\n",
    "\n",
    "* A dictionary maps __keys__ to __values__.\n",
    "    - Just like a real-world dictionary maps <font color=\"red\">words</font> to <font color=\"red\">definitions</font>.\n",
    "    \n",
    "* A dictionary is enclosed inside of `{ }` brackets.\n",
    "    - Inside the brackets, the key-value pairs are separated by a colon {`key: value`}.\n",
    "    \n",
    "* For example, here's a dictionary containing the city populations from the table above:"
   ]
  },
  {
   "cell_type": "code",
   "execution_count": 4,
   "metadata": {},
   "outputs": [],
   "source": [
    "population_by_city = {'Annapolis':38394, 'Baltimore':620961, 'Frederick':65239, 'Rockville':61209, 'College Park':30413}"
   ]
  },
  {
   "cell_type": "markdown",
   "metadata": {},
   "source": [
    "- To access the value corresponding to a particular key, we can write\n",
    "\n",
    "    ```python\n",
    "    dictionary_name[key]\n",
    "    ```\n",
    "- So, to print the population of Annapolis, we can write:"
   ]
  },
  {
   "cell_type": "code",
   "execution_count": 5,
   "metadata": {},
   "outputs": [
    {
     "name": "stdout",
     "output_type": "stream",
     "text": [
      "38394\n"
     ]
    }
   ],
   "source": [
    "# Print the population of Annapolis\n",
    "print(population_by_city['Annapolis'])"
   ]
  },
  {
   "cell_type": "markdown",
   "metadata": {},
   "source": [
    "* We can also create a dictionary by starting with an empty dictionary and adding key-value pairs, like this:"
   ]
  },
  {
   "cell_type": "code",
   "execution_count": 6,
   "metadata": {},
   "outputs": [
    {
     "name": "stdout",
     "output_type": "stream",
     "text": [
      "{'First Name': 'Jane', 'Last Name': 'Doe', 'Company': 15, 'Alpha': 229999}\n"
     ]
    }
   ],
   "source": [
    "# Create empty dictionary\n",
    "mid = {}\n",
    "\n",
    "# Add key-value pairs\n",
    "mid['First Name'] = 'Jane'\n",
    "mid['Last Name'] = 'Doe'\n",
    "mid['Company'] = 15\n",
    "mid['Alpha'] = 229999\n",
    "\n",
    "# Print the dictionary\n",
    "print(mid)"
   ]
  },
  {
   "cell_type": "markdown",
   "metadata": {},
   "source": [
    "- We can remove an existing key-value pair from a dictionary with the `del` keyword:"
   ]
  },
  {
   "cell_type": "code",
   "execution_count": 7,
   "metadata": {},
   "outputs": [
    {
     "name": "stdout",
     "output_type": "stream",
     "text": [
      "{'First Name': 'Jane', 'Last Name': 'Doe', 'Company': 15}\n"
     ]
    }
   ],
   "source": [
    "# Remove the midshipman's alpha from the dictionary\n",
    "del mid['Alpha']\n",
    "\n",
    "# Print to check our work\n",
    "print(mid)"
   ]
  },
  {
   "cell_type": "markdown",
   "metadata": {},
   "source": [
    "- Some things to remember abourt dictionaries:\n",
    "    - Keys can be strings or numbers, but keys <font color=\"red\">cannot</font> be lists.\n",
    "    - Duplicate keys are not allowed.\n",
    "    - Values in a Python dictionary can be any type of object (strings, numbers, lists, dictionaries, etc.)."
   ]
  },
  {
   "cell_type": "markdown",
   "metadata": {},
   "source": [
    "### 3. Useful dictionary methods"
   ]
  },
  {
   "cell_type": "markdown",
   "metadata": {},
   "source": [
    "- We can apply a number of methods to dictionaries.\n",
    "\n",
    "- __Pro tip.__ In Jupyter, one way to see the methods available is to type the name of the dictionary followed by a period, and then hit the <kbd>Tab</kbd> key.\n",
    "    - This actually works for any Python object, not just dictionaries.\n",
    "\n",
    "- For example, let's print the keys in the dictionary `population_by_city`:"
   ]
  },
  {
   "cell_type": "code",
   "execution_count": 8,
   "metadata": {},
   "outputs": [
    {
     "name": "stdout",
     "output_type": "stream",
     "text": [
      "dict_keys(['Annapolis', 'Baltimore', 'Frederick', 'Rockville', 'College Park'])\n"
     ]
    }
   ],
   "source": [
    "# Print keys of dictionary of populations by city\n",
    "print(population_by_city.keys())"
   ]
  },
  {
   "cell_type": "markdown",
   "metadata": {},
   "source": [
    "- It is possible to loop over the keys in a dictionary using the `.keys()` method:"
   ]
  },
  {
   "cell_type": "code",
   "execution_count": 9,
   "metadata": {},
   "outputs": [
    {
     "name": "stdout",
     "output_type": "stream",
     "text": [
      "Annapolis\n",
      "Baltimore\n",
      "Frederick\n",
      "Rockville\n",
      "College Park\n"
     ]
    }
   ],
   "source": [
    "# Iterate over the keys, print each of them\n",
    "for k in population_by_city.keys():\n",
    "    print(k)"
   ]
  },
  {
   "cell_type": "markdown",
   "metadata": {},
   "source": [
    "- You can do something similar with the values of a dictionary with the `.values()` method:"
   ]
  },
  {
   "cell_type": "code",
   "execution_count": 10,
   "metadata": {},
   "outputs": [
    {
     "name": "stdout",
     "output_type": "stream",
     "text": [
      "38394\n",
      "620961\n",
      "65239\n",
      "61209\n",
      "30413\n"
     ]
    }
   ],
   "source": [
    "# Iterate over the values, print each of them\n",
    "for v in population_by_city.values():\n",
    "    print(v)"
   ]
  },
  {
   "cell_type": "markdown",
   "metadata": {},
   "source": [
    "- What's really great is that you can loop over the keys and corresponding values of a dictionary <font color=\"red\">simultaneously</font> with the `.items()` method:"
   ]
  },
  {
   "cell_type": "code",
   "execution_count": 11,
   "metadata": {},
   "outputs": [
    {
     "name": "stdout",
     "output_type": "stream",
     "text": [
      "City Annapolis has population 38394.\n",
      "City Baltimore has population 620961.\n",
      "City Frederick has population 65239.\n",
      "City Rockville has population 61209.\n",
      "City College Park has population 30413.\n"
     ]
    }
   ],
   "source": [
    "# Print the population of each city\n",
    "for k, v in population_by_city.items():\n",
    "    print(f'City {k} has population {v}.')"
   ]
  },
  {
   "cell_type": "markdown",
   "metadata": {},
   "source": [
    "## Classwork"
   ]
  },
  {
   "cell_type": "markdown",
   "metadata": {},
   "source": [
    "1.  (PCC 6-1) Use a dictionary to store information about a person you know.  Store their first name, last \n",
    "name, age, and the city in which they live.  You should have keys such as `first_name`, `last_name`, `age`, and `city`.  Print each piece of information stored in your dictionary."
   ]
  },
  {
   "cell_type": "code",
   "execution_count": 12,
   "metadata": {},
   "outputs": [
    {
     "name": "stdout",
     "output_type": "stream",
     "text": [
      "Her first_name is Maia.\n",
      "Her last_name is Vath.\n",
      "Her age is 18.\n",
      "Her location is Okinawa.\n",
      "\n",
      "\n",
      "first_name\n",
      "last_name\n",
      "age\n",
      "location\n",
      "Maia\n",
      "Vath\n",
      "18\n",
      "Okinawa\n"
     ]
    }
   ],
   "source": [
    "person = {'first_name':'Maia', 'last_name':'Vath', 'age':18, 'location':'Okinawa'}\n",
    "for k, v in person.items():\n",
    "    print(f\"Her {k} is {v}.\")\n",
    "    \n",
    "print('\\n')\n",
    "\n",
    "for k in person.keys():\n",
    "    print(k)\n",
    "for v in person.values():\n",
    "    print(v)"
   ]
  },
  {
   "cell_type": "markdown",
   "metadata": {},
   "source": [
    "2.  (PCC 6-5) Make a dictionary containing three major rivers and the country each river runs through.  One key-value pair might be `nile : egypt`.\n",
    "\n",
    " - Use a loop to print a sentence about each river, such as `The Nile runs through Egypt`.\n",
    " - Use a loop to print the name of each river included in the dictionary.\n",
    " - Use a loop to print the name of each country included in the dictionary."
   ]
  },
  {
   "cell_type": "code",
   "execution_count": 13,
   "metadata": {},
   "outputs": [
    {
     "name": "stdout",
     "output_type": "stream",
     "text": [
      "The Nile River runs through Egypt.\n",
      "The Yellow River runs through China.\n",
      "The Mississippi River runs through The United States.\n"
     ]
    }
   ],
   "source": [
    "rivers = {'nile':'egypt', 'yellow':'china', 'mississippi':'the united states'}\n",
    "for k, v in rivers.items():\n",
    "    print(f\"The {k.title()} River runs through {v.title()}.\")"
   ]
  },
  {
   "cell_type": "markdown",
   "metadata": {},
   "source": [
    "3.  (PCC 6-7) Start with the code you wrote for PCC 6-1 (Question 1) above.  Make two new dictionaries representing different people, and store all three dictionaries in a list called `people`.  Loop through your list of people.  As you loop through the list, print everything you know about each person."
   ]
  },
  {
   "cell_type": "code",
   "execution_count": 14,
   "metadata": {},
   "outputs": [
    {
     "name": "stdout",
     "output_type": "stream",
     "text": [
      "Their first_name is Maia.\n",
      "Their last_name is Vath.\n",
      "Their age is 18.\n",
      "Their location is Okinawa.\n",
      "\n",
      "\n",
      "Their first_name is Sam.\n",
      "Their last_name is Shin.\n",
      "Their age is 18.\n",
      "Their location is Northbrook.\n",
      "\n",
      "\n",
      "Their first_name is McGee.\n",
      "Their last_name is Vath.\n",
      "Their age is old.\n",
      "Their location is Millington.\n",
      "\n",
      "\n"
     ]
    }
   ],
   "source": [
    "person1 = {'first_name':'Maia', 'last_name':'Vath', 'age':18, 'location':'Okinawa'}\n",
    "person2 = {'first_name':'Sam', 'last_name':'Shin', 'age':18, 'location':'Northbrook'}\n",
    "person3 = {'first_name':'McGee', 'last_name':'Vath', 'age':'old', 'location':'Millington'}\n",
    "people = [person1, person2, person3]\n",
    "\n",
    "for person in people:\n",
    "    for k, v in person.items():\n",
    "        print(f\"Their {k} is {v}.\")\n",
    "    print('\\n')"
   ]
  },
  {
   "cell_type": "markdown",
   "metadata": {},
   "source": [
    "4.  (Rader 3.3 Page 113) **You will need to make sure you have both Pyomo and the GLPK solver installed on your machine before you can do the next two questions.  If you have not already installed them, you should open the Anaconda Prompt and type `conda install -c conda-forge pyomo` to install Pyomo and `conda install glpk` to install the GLPK solver.**\n",
    "\n",
    "The cell below contains Pyomo code to solve a model that involves integer and binary decision variables.  You will learn more about how to formulate and solve these types of models in SA405 next semester.  Below is the problem statement and data required to formulate a model that minimizes the total cost of meeting the weekly demand.\n",
    "\n",
    "Three different products are made on three production lines each week.  If a production line is used in a given week there is an associated setup cost.  Each worker is designated to only one production line, and the pay and production of each worker depends on which line they are assigned to.  In addition, each worker is assigned to one product on their assigned line.  Relevant data are given below.\n",
    "\n",
    "\\begin{array}{l|c|c|c}\n",
    "& \\mbox{Line 1} & \\mbox{Line 2} & \\mbox{Line 3} \\\\\n",
    "\\hline\n",
    "\\mbox{Setup cost} & $2000 & $3000  & $4000 \\\\\n",
    "\\mbox{Product 1/worker} & 50 & 90 & 120 \\\\\n",
    "\\mbox{Product 2/worker} & 75 & 110 & 130 \\\\\n",
    "\\mbox{Product 3/worker} & 90 & 125 & 150\\\\\n",
    "\\mbox{Cost/worker} & \\$700 & \\$1000 & \\$1500 \\\\\n",
    "\\end{array}\n",
    "\n",
    "Each week we need to make 600 of product 1, 800 of product 2, and 1000 of product 3.  We can use at most 20 workers.\n",
    "\n",
    "Use the data given in the table above to define four dictionaries called `setup_costtab`, `worker_costtab`, `productiontab`, and `demandtab`.  You should insert your code as indicated in the cell below.  Use `1`, `2`, and `3` and `(1, 1), (1, 2), (1, 3), (2, 1), (2, 2), (2, 3), (3, 1), (3, 2), (3, 3)` as the keys in the dictionaries (where appropriate; for instance `(2,3)` might correspond to Product 2 made on Line 3).  If you define the dictionaries correctly, you should obtain an objective value of 30500 and the production plan shown in the table below.\n",
    "\n",
    "\\begin{array}{c|c|c|r}\n",
    "\\mbox{Line} & \\mbox{Product} & \\mbox{Workers} & \\mbox{Amount Made} \\\\\n",
    "\\hline\n",
    "      2 & 2 & 5 & 550 \\\\\n",
    "      2 & 3 & 8 & 1000 \\\\\n",
    "      3 & 1 & 5 & 600 \\\\\n",
    "      3 & 2 & 2 & 260 \\\\\n",
    "\\end{array}\n",
    "\n",
    "_What's the point of this exercise?_ We'll need to set up similar dictionaries consisting of problem data when we learn how to formulate and solve these types of problems with Python later this semester. You'll see this in SA305 as well."
   ]
  },
  {
   "cell_type": "code",
   "execution_count": 15,
   "metadata": {
    "scrolled": true
   },
   "outputs": [
    {
     "name": "stdout",
     "output_type": "stream",
     "text": [
      "# ==========================================================\n",
      "# = Solver Results                                         =\n",
      "# ==========================================================\n",
      "# ----------------------------------------------------------\n",
      "#   Problem Information\n",
      "# ----------------------------------------------------------\n",
      "Problem: \n",
      "- Name: unknown\n",
      "  Lower bound: 30500.0\n",
      "  Upper bound: 30500.0\n",
      "  Number of objectives: 1\n",
      "  Number of constraints: 8\n",
      "  Number of variables: 13\n",
      "  Number of nonzeros: 31\n",
      "  Sense: minimize\n",
      "# ----------------------------------------------------------\n",
      "#   Solver Information\n",
      "# ----------------------------------------------------------\n",
      "Solver: \n",
      "- Status: ok\n",
      "  Termination condition: optimal\n",
      "  Statistics: \n",
      "    Branch and bound: \n",
      "      Number of bounded subproblems: 11\n",
      "      Number of created subproblems: 11\n",
      "  Error rc: 0\n",
      "  Time: 0.03200197219848633\n",
      "# ----------------------------------------------------------\n",
      "#   Solution Information\n",
      "# ----------------------------------------------------------\n",
      "Solution: \n",
      "- number of solutions: 0\n",
      "  number of solutions displayed: 0\n",
      "\n",
      "Displaying Solution\n",
      "------------------------------------------------------------\n",
      "Results\n",
      "\n",
      "Minimum Total Cost is 30500 \n",
      "\n",
      "Line            Product       Workers   Amount Made\n",
      "-------------   -----------   -------   -----------\n",
      "            2             2         5                         550\n",
      "            2             3         8                        1000\n",
      "            3             1         5                         600\n",
      "            3             2         2                         260\n"
     ]
    }
   ],
   "source": [
    "import pyomo.environ as pyo\n",
    "\n",
    "model = pyo.ConcreteModel()\n",
    "\n",
    "# Set of Products\n",
    "model.P = pyo.Set(initialize=[1,2,3], doc='Set of Products')\n",
    "\n",
    "# Set of Lines\n",
    "model.L = pyo.Set(initialize=[1,2,3], doc='Set of Lines')\n",
    "\n",
    "## Define parameters ##\n",
    "\n",
    "setup_costtab = {1: 2000, 2: 3000, 3: 4000}\n",
    "\n",
    "worker_costtab = {1: 700, 2: 1000, 3: 1500}\n",
    "\n",
    "productiontab = {(1,1): 50, (1,2): 90, (1,3): 120, (2,1): 75, (2,2): 110, (2,3): (130), (3,1): 90, (3,2): 125, (3,3): 150}\n",
    "\n",
    "demandtab = {1: 600, 2: 800, 3: 1000}\n",
    "\n",
    "model.setup_cost = pyo.Param(model.L, initialize=setup_costtab, \n",
    "                         doc='setup cost if line l used in given week')\n",
    "\n",
    "model.worker_cost = pyo.Param(model.L, initialize=worker_costtab, \n",
    "                          doc='pay per worker on line l')\n",
    "\n",
    "model.production = pyo.Param(model.P, model.L, initialize=productiontab, \n",
    "                         doc='production per worker for product p on line l')\n",
    "\n",
    "model.max_workers = pyo.Param(initialize=20, \n",
    "                          doc='maximum number of workers, 20 in this instance')\n",
    "\n",
    "model.demand = pyo.Param(model.P, initialize=demandtab, \n",
    "                     doc='number of product p that must be produced')\n",
    "\n",
    "# decision variables\n",
    "model.WORKERS = pyo.Var(model.P, model.L, within=pyo.NonNegativeIntegers, \n",
    "                    doc='number of workers assigned to product p on line l')\n",
    "\n",
    "model.OPEN = pyo.Var(model.L, within=pyo.Binary, \n",
    "                 doc='1 if line l is open, 0 otherwise')\n",
    "\n",
    "# objective function: NOTE that default sense is minimize in Pyomo\n",
    "\n",
    "# objective is to minimize the total cost of meeting our weekly demand\n",
    "def cost_rule(model):\n",
    "    return sum(model.worker_cost[l]*model.WORKERS[p,l] for p in model.P \n",
    "               for l in model.L) + sum(model.setup_cost[l]*model.OPEN[l] \n",
    "               for l in model.L)\n",
    "model.cost = pyo.Objective(rule=cost_rule, sense=pyo.minimize)\n",
    "\n",
    "# constraints\n",
    "def no_workers_unless_open_rule(model, l):\n",
    "    return sum(model.WORKERS[p,l] for p in model.P) <= (model.max_workers * \n",
    "              model.OPEN[l])\n",
    "model.no_workers_unless_open_rule = pyo.Constraint(model.L, \n",
    "              rule=no_workers_unless_open_rule, \n",
    "              doc='Cannot put workers on line unless it is open')\n",
    "\n",
    "def demand_rule(model, p):\n",
    "    return sum(model.production[p,l] * model.WORKERS[p,l] \n",
    "               for l in model.L) >= model.demand[p]\n",
    "model.demand_rule = pyo.Constraint(model.P, \n",
    "                               rule=demand_rule, doc='Must satisfy demand')\n",
    "\n",
    "def total_workers_rule(model):\n",
    "    return sum(model.WORKERS[p,l] for l in model.L \n",
    "               for p in model.P) <= model.max_workers\n",
    "model.total_workers_rule = pyo.Constraint(rule=total_workers_rule, \n",
    "                           doc='Only have a given number of total workers')\n",
    "\n",
    "# display output\n",
    "def pyomo_postprocess(options=None, instance=None, results=None):\n",
    "    # to display value and information about all decision variables\n",
    "    #model.x.display()\n",
    "    # to display a pretty printed version of the model structure\n",
    "    #model.pprint()\n",
    "    print(\"Results\\n\")\n",
    "    print(f\"Minimum Total Cost is {pyo.value(model.cost):.0f} \\n\")\n",
    "    print(\"Line            Product       Workers   Amount Made\")\n",
    "    print(\"-------------   -----------   -------   -----------\")\n",
    "    for l in model.L:\n",
    "        for p in model.P:\n",
    "            if model.WORKERS[p,l].value != 0:\n",
    "                print(f\"{l:13d}   {p:11d}   {model.WORKERS[p,l].value:7.0f} \\\n",
    "                {model.WORKERS[p,l].value*model.production[p,l]:11.0f}\")\n",
    "\n",
    "opt = pyo.SolverFactory(\"glpk\")                \n",
    "results = opt.solve(model)\n",
    "results.write()\n",
    "print(\"\\nDisplaying Solution\\n\" + '-'*60)\n",
    "pyomo_postprocess(None, None, None)"
   ]
  },
  {
   "cell_type": "code",
   "execution_count": null,
   "metadata": {},
   "outputs": [],
   "source": []
  }
 ],
 "metadata": {
  "kernelspec": {
   "display_name": "Python 3",
   "language": "python",
   "name": "python3"
  },
  "language_info": {
   "codemirror_mode": {
    "name": "ipython",
    "version": 3
   },
   "file_extension": ".py",
   "mimetype": "text/x-python",
   "name": "python",
   "nbconvert_exporter": "python",
   "pygments_lexer": "ipython3",
   "version": "3.8.5"
  }
 },
 "nbformat": 4,
 "nbformat_minor": 2
}
