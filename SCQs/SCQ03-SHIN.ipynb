{
 "cells": [
  {
   "cell_type": "markdown",
   "metadata": {},
   "source": [
    "# <center>SM286D - Short Coding Quiz 03</center>\n",
    "## <center>CDR Lazzaro - Section 3402</center>\n",
    "\n",
    "It is important that you not speak about the content of this quiz before the end of sixth period today.  By typing your name in the box below you agree not to share any information about the quiz before that time."
   ]
  },
  {
   "cell_type": "code",
   "execution_count": 1,
   "metadata": {},
   "outputs": [],
   "source": [
    "##############################################################################################################\n",
    "# Name: Sam Shin\n",
    "##############################################################################################################"
   ]
  },
  {
   "cell_type": "markdown",
   "metadata": {},
   "source": [
    "### BEFORE GOING FURTHER, SAVE THIS FILE UNDER A NEW FILENAME, REPLACING LASTNAME WITH YOUR LAST NAME. \n",
    "\n",
    "This quiz is **CLOSED** computer (other than this Jupyter notebook), **CLOSED** book, **CLOSED** notes, and you **MAY NOT** use a search engine. You **MAY NOT** receive help from another human being during this quiz with the exception of your intructor.  "
   ]
  },
  {
   "cell_type": "markdown",
   "metadata": {},
   "source": [
    "The quiz will last 5 minutes.  Points are listed next to each question (in brackets [ ]).  The quiz totals 10 points. \n",
    "### SAVE YOUR WORK FREQUENTLY, and upload this file to Blackboard at the end of the quiz."
   ]
  },
  {
   "cell_type": "markdown",
   "metadata": {},
   "source": [
    "1.  Use appropriate `if-else` logic to check if the variable `my_number` (defined below) is 7.  If `my_number` is 7, print the following message to the screen\n",
    "```\n",
    "Your number is 7.\n",
    "```\n",
    "If `my_number` is not 7, print the following message to the screen\n",
    "```\n",
    "Your number is not 7.\n",
    "```\n",
    "[5 pts]"
   ]
  },
  {
   "cell_type": "code",
   "execution_count": 2,
   "metadata": {},
   "outputs": [],
   "source": [
    "my_number = 7"
   ]
  },
  {
   "cell_type": "code",
   "execution_count": 3,
   "metadata": {},
   "outputs": [
    {
     "name": "stdout",
     "output_type": "stream",
     "text": [
      "Your number is 7.\n"
     ]
    }
   ],
   "source": [
    "if my_number == 7:\n",
    "    print(\"Your number is 7.\")\n",
    "else:\n",
    "    print(\"Your number is not 7.\")"
   ]
  },
  {
   "cell_type": "markdown",
   "metadata": {},
   "source": [
    "2.  Use a `for` loop to iterate through the values in `my_list` (defined below).  In the `for` loop, use appropriate `if-else` logic to check if each value in `my_list` is an even number.  If the number is even, print the following message to the screen:\n",
    "```\n",
    "x is even.\n",
    "```\n",
    "If the number is odd, print the following message to the screen:\n",
    "```\n",
    "x is odd.\n",
    "```\n",
    "\n",
    "For full credit you **MUST** use an f-string to replace the `x` in the print statement with the correct numerical value.\n",
    "\n",
    "HINT:  You can use the modulo operator % to check if a number is evenly divisible by another number.  For example\n",
    "```python\n",
    "6 % 2 \n",
    "```\n",
    "will return 0 because 6 is evenly divisible by 2.  [5 pts]"
   ]
  },
  {
   "cell_type": "code",
   "execution_count": 4,
   "metadata": {},
   "outputs": [],
   "source": [
    "my_list = [1,2,3,4,5,6,7,8,9,10]"
   ]
  },
  {
   "cell_type": "code",
   "execution_count": 5,
   "metadata": {},
   "outputs": [
    {
     "name": "stdout",
     "output_type": "stream",
     "text": [
      "1 is odd.\n",
      "2 is even.\n",
      "3 is odd.\n",
      "4 is even.\n",
      "5 is odd.\n",
      "6 is even.\n",
      "7 is odd.\n",
      "8 is even.\n",
      "9 is odd.\n",
      "10 is even.\n"
     ]
    }
   ],
   "source": [
    "for x in my_list:\n",
    "    if x % 2 == 0:\n",
    "        print(f\"{x} is even.\")\n",
    "    else:\n",
    "        print(f\"{x} is odd.\")"
   ]
  },
  {
   "cell_type": "code",
   "execution_count": null,
   "metadata": {},
   "outputs": [],
   "source": []
  }
 ],
 "metadata": {
  "kernelspec": {
   "display_name": "Python 3",
   "language": "python",
   "name": "python3"
  },
  "language_info": {
   "codemirror_mode": {
    "name": "ipython",
    "version": 3
   },
   "file_extension": ".py",
   "mimetype": "text/x-python",
   "name": "python",
   "nbconvert_exporter": "python",
   "pygments_lexer": "ipython3",
   "version": "3.8.5"
  }
 },
 "nbformat": 4,
 "nbformat_minor": 2
}
