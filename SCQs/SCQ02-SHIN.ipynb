{
 "cells": [
  {
   "cell_type": "markdown",
   "metadata": {},
   "source": [
    "# <center>SM286D - Short Coding Quiz 02</center>\n",
    "## <center>CDR Lazzaro - Section 3402</center>\n",
    "\n",
    "It is important that you not speak about the content of this quiz before the end of sixth period today.  By typing your name in the box below you agree not to share any information about the quiz before that time."
   ]
  },
  {
   "cell_type": "code",
   "execution_count": 8,
   "metadata": {},
   "outputs": [],
   "source": [
    "##############################################################################################################\n",
    "# Name:Samuel Shin\n",
    "##############################################################################################################"
   ]
  },
  {
   "cell_type": "markdown",
   "metadata": {},
   "source": [
    "### BEFORE GOING FURTHER, SAVE THIS FILE UNDER A NEW FILENAME, REPLACING LASTNAME WITH YOUR LAST NAME. \n",
    "\n",
    "This quiz is **CLOSED** computer (other than this Jupyter notebook), **CLOSED** book, **CLOSED** notes, and you **MAY NOT** use a search engine. You **MAY NOT** receive help from another human being during this quiz with the exception of your intructor.  "
   ]
  },
  {
   "cell_type": "markdown",
   "metadata": {},
   "source": [
    "The quiz will last 5 minutes.  Points are listed next to each question (in brackets [ ]).  The quiz totals 10 points. \n",
    "### SAVE YOUR WORK FREQUENTLY, and upload this file to Blackboard at the end of the quiz."
   ]
  },
  {
   "cell_type": "markdown",
   "metadata": {},
   "source": [
    "1.  Use a `for` loop with the `range()` function to print the integers 0 through 9 to the screen.  [5 pts]"
   ]
  },
  {
   "cell_type": "code",
   "execution_count": 9,
   "metadata": {},
   "outputs": [
    {
     "name": "stdout",
     "output_type": "stream",
     "text": [
      "0\n",
      "1\n",
      "2\n",
      "3\n",
      "4\n",
      "5\n",
      "6\n",
      "7\n",
      "8\n",
      "9\n"
     ]
    }
   ],
   "source": [
    "for x in range(0, 10):\n",
    "    print(x)"
   ]
  },
  {
   "cell_type": "markdown",
   "metadata": {},
   "source": [
    "2.  Use a `for` loop to iterate through the values in `my_list` (defined below) and print each of the items to the screen.  [5 pts]"
   ]
  },
  {
   "cell_type": "code",
   "execution_count": 10,
   "metadata": {},
   "outputs": [],
   "source": [
    "my_list = [\"almonds\", \"anchovies\", \"apples\", \"apricots\", \"artichokes\", \"asparagus\", \"avocados\"]"
   ]
  },
  {
   "cell_type": "code",
   "execution_count": 11,
   "metadata": {},
   "outputs": [
    {
     "name": "stdout",
     "output_type": "stream",
     "text": [
      "almonds\n",
      "anchovies\n",
      "apples\n",
      "apricots\n",
      "artichokes\n",
      "asparagus\n",
      "avocados\n"
     ]
    }
   ],
   "source": [
    "for y in range(len(my_list)):\n",
    "    print(my_list[y])"
   ]
  },
  {
   "cell_type": "code",
   "execution_count": null,
   "metadata": {},
   "outputs": [],
   "source": []
  }
 ],
 "metadata": {
  "kernelspec": {
   "display_name": "Python 3",
   "language": "python",
   "name": "python3"
  },
  "language_info": {
   "codemirror_mode": {
    "name": "ipython",
    "version": 3
   },
   "file_extension": ".py",
   "mimetype": "text/x-python",
   "name": "python",
   "nbconvert_exporter": "python",
   "pygments_lexer": "ipython3",
   "version": "3.8.5"
  }
 },
 "nbformat": 4,
 "nbformat_minor": 2
}
