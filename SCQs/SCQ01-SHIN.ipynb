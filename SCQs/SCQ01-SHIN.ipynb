{
 "cells": [
  {
   "cell_type": "markdown",
   "metadata": {},
   "source": [
    "# <center>SM286D - Short Coding Quiz 01</center>\n",
    "## <center>CDR Lazzaro - Sections 3402</center>\n",
    "\n",
    "It is important that you not speak about the content of this quiz before the end of sixth period today.  By typing your name in the box below you agree not to share any information about the quiz before that time."
   ]
  },
  {
   "cell_type": "code",
   "execution_count": null,
   "metadata": {},
   "outputs": [],
   "source": [
    "##############################################################################################################\n",
    "# Name:Sam Shin\n",
    "##############################################################################################################"
   ]
  },
  {
   "cell_type": "markdown",
   "metadata": {},
   "source": [
    "### BEFORE GOING FURTHER, SAVE THIS FILE UNDER A NEW FILENAME, REPLACING LASTNAME WITH YOUR LAST NAME. \n",
    "\n",
    "This quiz is **CLOSED** computer (other than this Jupyter notebook), **CLOSED** book, **CLOSED** notes, and you **MAY NOT** use a search engine. You **MAY NOT** receive help from another human being during this quiz with the exception of your intructor.  "
   ]
  },
  {
   "cell_type": "markdown",
   "metadata": {},
   "source": [
    "The quiz will last 5 minutes.  Points are listed next to each question (in brackets [ ]).  The quiz totals 10 points. \n",
    "### SAVE YOUR WORK FREQUENTLY, and upload this file to Blackboard at the end of the quiz."
   ]
  },
  {
   "cell_type": "markdown",
   "metadata": {},
   "source": [
    "1.  In the code cell below define the list `my_list` and have it include the following values (in order):  2, 5, 9, 3, 7. [3 pts]"
   ]
  },
  {
   "cell_type": "code",
   "execution_count": 3,
   "metadata": {},
   "outputs": [],
   "source": [
    "my_list = [2, 5, 9, 3, 7]"
   ]
  },
  {
   "cell_type": "markdown",
   "metadata": {},
   "source": [
    "2.  In the code cell below print **ONLY** the final element (the number 7) from `my_list` to the screen.  You **MUST** use `my_list[x]` in your print statement, with `x` replaced with the appropriate value to receive full credit. [2 pts]"
   ]
  },
  {
   "cell_type": "code",
   "execution_count": 4,
   "metadata": {},
   "outputs": [
    {
     "name": "stdout",
     "output_type": "stream",
     "text": [
      "7\n"
     ]
    }
   ],
   "source": [
    "print(my_list[-1])"
   ]
  },
  {
   "cell_type": "markdown",
   "metadata": {},
   "source": [
    "3. Replace the number 5 in `my_list` with the string `bananas`.  Your **MUST** use `my_list[x]`, with `x` replaced with the appropriate value to receive full credit.  Re-defining the entire `my_list` with `bananas` inserted will NOT earn you any points.  [4 pts]"
   ]
  },
  {
   "cell_type": "code",
   "execution_count": 5,
   "metadata": {},
   "outputs": [],
   "source": [
    "my_list[1] = \"bananas\""
   ]
  },
  {
   "cell_type": "markdown",
   "metadata": {},
   "source": [
    "4. Print `my_list` to the screen to make sure you answered question 3 correctly. [1 pt]"
   ]
  },
  {
   "cell_type": "code",
   "execution_count": 6,
   "metadata": {},
   "outputs": [
    {
     "name": "stdout",
     "output_type": "stream",
     "text": [
      "[2, 'bananas', 9, 3, 7]\n"
     ]
    }
   ],
   "source": [
    "print(my_list)"
   ]
  },
  {
   "cell_type": "code",
   "execution_count": null,
   "metadata": {},
   "outputs": [],
   "source": []
  }
 ],
 "metadata": {
  "kernelspec": {
   "display_name": "Python 3",
   "language": "python",
   "name": "python3"
  },
  "language_info": {
   "codemirror_mode": {
    "name": "ipython",
    "version": 3
   },
   "file_extension": ".py",
   "mimetype": "text/x-python",
   "name": "python",
   "nbconvert_exporter": "python",
   "pygments_lexer": "ipython3",
   "version": "3.8.5"
  }
 },
 "nbformat": 4,
 "nbformat_minor": 2
}
