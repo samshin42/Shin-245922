{
 "cells": [
  {
   "cell_type": "markdown",
   "metadata": {},
   "source": [
    "<h4 class='prehead'>SM286D &middot; Introduction to Applied Mathematics with Python &middot; Spring 2021 &middot; Foraker/Lazzaro</h4>\n",
    "\n",
    "<h3 class='lesson'>Assignment 1.</h3>\n",
    "\n",
    "<h1 class='lesson_title'>The Knapsack Problem</h1>"
   ]
  },
  {
   "cell_type": "markdown",
   "metadata": {},
   "source": [
    "__Mathematical goals.__  Introduction to the knapsack problem, brute-force approaches to optimization.\n",
    "\n",
    "__Programming goals.__ For loops, dictionaries."
   ]
  },
  {
   "cell_type": "markdown",
   "metadata": {},
   "source": [
    "# Background"
   ]
  },
  {
   "cell_type": "markdown",
   "metadata": {},
   "source": [
    "Suppose you are a thief planning a heist on a vault. You know the vault contains the following items:\n",
    "\n",
    "| Item            | Value (\\$/item) | Weight (g/item) | Number available |\n",
    "| --------------- | --------------- | --------------- | ---------------- |\n",
    "| Gold bar        | 5185            | 100             | 4                |\n",
    "| Silver bar      | 475             | 700             | 7                |\n",
    "| Platinum bar    | 10781           | 10              | 11               |\n",
    "\n",
    "You have a knapsack that can hold at most 3 kg (3000 g). Which items should you take to maximize the value of your theft?"
   ]
  },
  {
   "cell_type": "markdown",
   "metadata": {},
   "source": [
    "This is an example of the [__knapsack problem__](https://en.wikipedia.org/wiki/Knapsack_problem): given a set of items, each with a weight and value, determine the number of each item to select so that the total weight is less than or equal to a given limit, and the total value is as large as possible.\n",
    "\n",
    "The knapsack problem is one of the most studied optimization problems in operations research and computer science. Aside from thievery, there are many practical applications of the knapsack problem, such as minimizing waste when cutting raw materials, and finding an optimal selection of investments for a portfolio.  The knapsack problem also often appears as a subproblem for larger optimization problems."
   ]
  },
  {
   "cell_type": "markdown",
   "metadata": {},
   "source": [
    "In SA305 and SA405 (and SA367 if you take it), you'll learn more about different ways to model and solve the knapsack problem. For this project, you will solve a few knapsack problems using __brute force__."
   ]
  },
  {
   "cell_type": "markdown",
   "metadata": {},
   "source": [
    "---"
   ]
  },
  {
   "cell_type": "markdown",
   "metadata": {},
   "source": [
    "## Your assignment"
   ]
  },
  {
   "cell_type": "markdown",
   "metadata": {},
   "source": [
    "### Part 1. Warm-up"
   ]
  },
  {
   "cell_type": "markdown",
   "metadata": {},
   "source": [
    "The code cell below defines several dictionaries representing the value, weight, and number available for each of the 3 items above. It also defines a variable for the maximum weight your knapsack can hold."
   ]
  },
  {
   "cell_type": "code",
   "execution_count": 1,
   "metadata": {
    "run_control": {
     "marked": false
    }
   },
   "outputs": [],
   "source": [
    "# Value in dollars\n",
    "value = {\n",
    "    'gold bar': 5185,\n",
    "    'silver bar': 475,\n",
    "    'platinum bar': 10781\n",
    "}\n",
    "\n",
    "# Weight in grams\n",
    "weight = {\n",
    "    'gold bar': 100,\n",
    "    'silver bar': 700,\n",
    "    'platinum bar': 10\n",
    "}\n",
    "\n",
    "# Number of bars and coins in the vault\n",
    "available = {\n",
    "    'gold bar': 4,\n",
    "    'silver bar': 7,\n",
    "    'platinum bar': 11   \n",
    "}\n",
    "\n",
    "# Maximum weight the knapsack can hold\n",
    "max_weight = 3000"
   ]
  },
  {
   "cell_type": "markdown",
   "metadata": {},
   "source": [
    "Your goal is to solve this instance of the knapsack problem by brute force: in other words, enumerate all the possible solutions, and pick the best one."
   ]
  },
  {
   "cell_type": "markdown",
   "metadata": {},
   "source": [
    "__(a)__ In the code cell below, write a nested `for` loop that iterates through every possible solution: that is, every possible combination of gold, silver, and platinum bars:\n",
    "\n",
    "| Gold bar | Silver bar | Platinum bar |\n",
    "| -------- | ---------- | ------------ |\n",
    "| 0        | 0          | 0            |\n",
    "| 0        | 0          | 1            |\n",
    "| $\\vdots$ | $\\vdots$   | $\\vdots$     |\n",
    "| 0        | 0          | 4            |\n",
    "| 1        | 0          | 0            |\n",
    "| 1        | 0          | 1            |\n",
    "| $\\vdots$ | $\\vdots$   | $\\vdots$     |\n",
    "| 4        | 7          | 11           |\n",
    "\n",
    "At each iteration, compute the total value and total weight of the combination of gold, silver, and platinum bars.\n",
    "Check if the combination represents a __feasible solution__: the total weight of the combination is less than the maximum weight that the knapsack will hold.\n",
    "If it does, create a dictionary representing this feasible solution &mdash; something like this:\n",
    "\n",
    "```python\n",
    "new_feasible_solution = {\n",
    "    'gold bars': number of gold bars,\n",
    "    'silver bars': number of silver bars,\n",
    "    'platinum bars': number of platinum bars,\n",
    "    'total value': total value of combination,\n",
    "    'total weight': total weight of combination\n",
    "}\n",
    "```\n",
    "\n",
    "Add all of these feasible solution dictionaries to a list called `feasible_solutions`."
   ]
  },
  {
   "cell_type": "code",
   "execution_count": 2,
   "metadata": {},
   "outputs": [],
   "source": [
    "feasible_solutions = []\n",
    "\n",
    "# possible number of gold bars\n",
    "for g in range(available['gold bar'] + 1):\n",
    "    total_weight = 0\n",
    "    total_value = 0\n",
    "    # possible number of silver bars\n",
    "    for s in range(available['silver bar'] + 1):\n",
    "        # possible number of platinum bars\n",
    "        for p in range(available['platinum bar'] + 1):\n",
    "            total_weight = g*weight['gold bar'] + s*weight['silver bar'] + p*weight['platinum bar']               \n",
    "            total_value = g*value['gold bar'] + s*value['silver bar'] + p*value['platinum bar']\n",
    "            # creates dictionary for feasible solution, adds it to the list\n",
    "            if total_weight <= max_weight:\n",
    "                new_solution = {\n",
    "                    'gold bars': g,\n",
    "                    'silver bars': s,\n",
    "                    'platinum bars': p,\n",
    "                    'total value': total_value,\n",
    "                    'total weight': total_weight\n",
    "                }\n",
    "                feasible_solutions.append(new_solution)"
   ]
  },
  {
   "cell_type": "markdown",
   "metadata": {},
   "source": [
    "__(b)__ In the code cell below, use the list called `feasible_solutions` you created above to count the number of feasible solutions. Print this number.\n",
    "\n",
    "_Hint._ You should have 264 feasible solutions."
   ]
  },
  {
   "cell_type": "code",
   "execution_count": 3,
   "metadata": {},
   "outputs": [
    {
     "name": "stdout",
     "output_type": "stream",
     "text": [
      "264\n"
     ]
    }
   ],
   "source": [
    "print(len(feasible_solutions))"
   ]
  },
  {
   "cell_type": "markdown",
   "metadata": {},
   "source": [
    "__(c)__ Finally, in the code cell below, loop through all the dictionaries in `feasible_solutions` to find the feasible solution with the maximum total value. Print both the feasible solution (i.e. number of gold, silver, and platinum bars to steal) as well as the maximum total value."
   ]
  },
  {
   "cell_type": "code",
   "execution_count": 4,
   "metadata": {},
   "outputs": [
    {
     "name": "stdout",
     "output_type": "stream",
     "text": [
      "Best solution: {'gold bars': 4, 'silver bars': 3, 'platinum bars': 11, 'total value': 140756, 'total weight': 2610}\n",
      "\n",
      "Maximum total value = 140756\n"
     ]
    }
   ],
   "source": [
    "max_value = 0\n",
    "for k in feasible_solutions:\n",
    "    # finds solution with largest max_value, stores number of each metal bar\n",
    "    if k['total value'] > max_value:\n",
    "        max_value = k['total value']\n",
    "        best_solution = k\n",
    "        \n",
    "print(f\"Best solution: {k}\")\n",
    "print(f\"\\nMaximum total value = {max_value}\")"
   ]
  },
  {
   "cell_type": "markdown",
   "metadata": {},
   "source": [
    "### Part 2. New intel on the vault"
   ]
  },
  {
   "cell_type": "markdown",
   "metadata": {},
   "source": [
    "You've received some new information about the vault &mdash; in addition to the bars of gold, silver, and platinum, there are coins as well!\n",
    "\n",
    "| Item            | Value (\\$/item) | Weight (g/item) | Number available |\n",
    "| --------------- | --------------- | --------------- | ---------------- |\n",
    "| Gold bar        | 5185            | 100             | 4                |\n",
    "| Silver bar      | 475             | 700             | 7                |\n",
    "| Platinum bar    | 10781           | 10              | 11               |\n",
    "| Gold coin       | 805             | 15              | 27               |\n",
    "| Silver coin     | 194             | 30              | 49               |\n",
    "| Platinum coin   | 1087            | 25              | 22               |"
   ]
  },
  {
   "cell_type": "markdown",
   "metadata": {},
   "source": [
    "__(a)__ In the code cell below, define 3 dictionaries called `value`, `weight`, and `available` that contain the data in the table above. In addition, define a variable `max_weight` that represents the maximum weight your knapsack can hold."
   ]
  },
  {
   "cell_type": "code",
   "execution_count": 5,
   "metadata": {},
   "outputs": [],
   "source": [
    "# Value in dollars\n",
    "value = {\n",
    "    'gold bar': 5185,\n",
    "    'silver bar': 475,\n",
    "    'platinum bar': 10781,\n",
    "    'gold coin': 805,\n",
    "    'silver coin': 194,\n",
    "    'platinum coin': 1087\n",
    "}\n",
    "\n",
    "# Weight in grams\n",
    "weight = {\n",
    "    'gold bar': 100,\n",
    "    'silver bar': 700,\n",
    "    'platinum bar': 10,\n",
    "    'gold coin': 15,\n",
    "    'silver coin': 30,\n",
    "    'platinum coin': 25\n",
    "}\n",
    "\n",
    "# Number of bars and coins in the vault\n",
    "available = {\n",
    "    'gold bar': 4,\n",
    "    'silver bar': 7,\n",
    "    'platinum bar': 11,\n",
    "    'gold coin': 27,\n",
    "    'silver coin': 49,\n",
    "    'platinum coin': 22\n",
    "}\n",
    "\n",
    "# Maximum weight the knapsack can hold\n",
    "max_weight = 3000"
   ]
  },
  {
   "cell_type": "markdown",
   "metadata": {},
   "source": [
    "__(b)__ In the code cell below, create a list of dictionaries called `feasible_solutions`, with each dictionary representing a feasible solution, just like you did in (a) in Part 1.\n",
    "\n",
    "Remember that each dictionary representing a feasible solution should also contain information about the number of gold, silver, and platinum coins (in addition to the number of gold, silver, and platinum bars, as well as the total value and weight)."
   ]
  },
  {
   "cell_type": "code",
   "execution_count": 6,
   "metadata": {},
   "outputs": [],
   "source": [
    "feasible_solutions = []\n",
    "\n",
    "# possible number of gold bars\n",
    "for gb in range(available['gold bar'] + 1):\n",
    "    total_weight = 0\n",
    "    total_value = 0\n",
    "    # possible number of silver bars\n",
    "    for sb in range(available['silver bar'] + 1):\n",
    "        # possible number of platinum bars\n",
    "        for pb in range(available['platinum bar'] + 1):\n",
    "            # possible number of gold coins\n",
    "            for gc in range(available['gold coin'] + 1):\n",
    "                # possible number of silver coins\n",
    "                for sc in range(available['silver coin'] + 1):\n",
    "                    # possible number of platinum coins\n",
    "                    for pc in range(available['platinum coin'] + 1):\n",
    "                        total_weight = gb*weight['gold bar'] + sb*weight['silver bar'] + pb*weight['platinum bar']\n",
    "                        total_weight += gc*weight['gold coin'] + sc*weight['silver coin'] + pc*weight['platinum coin']\n",
    "                        \n",
    "                        total_value = gb*value['gold bar'] + sb*value['silver bar'] + pb*value['platinum bar']\n",
    "                        total_value += gc*value['gold coin'] + sc*value['silver coin'] + pc*value['platinum coin']\n",
    "\n",
    "                        # creates dictionary for feasible solution, adds it to the list\n",
    "                        if total_weight <= max_weight:\n",
    "                            new_solution = {\n",
    "                                'gold bars': gb,\n",
    "                                'silver bars': sb,\n",
    "                                'platinum bars': pb,\n",
    "                                'gold coins': gc,\n",
    "                                'silver coins': sc,\n",
    "                                'platinum coins': pc,\n",
    "                                'total value': total_value,\n",
    "                                'total weight': total_weight\n",
    "                            }\n",
    "                            feasible_solutions.append(new_solution)"
   ]
  },
  {
   "cell_type": "markdown",
   "metadata": {},
   "source": [
    "__(c)__ In the code cell below, use the list called `feasible_solutions` you created above to count the number of feasible solutions. Print this number."
   ]
  },
  {
   "cell_type": "code",
   "execution_count": 7,
   "metadata": {},
   "outputs": [
    {
     "name": "stdout",
     "output_type": "stream",
     "text": [
      "5203872\n"
     ]
    }
   ],
   "source": [
    "print(len(feasible_solutions))"
   ]
  },
  {
   "cell_type": "markdown",
   "metadata": {},
   "source": [
    "__(d)__ Finally, in the code cell below, loop through all the dictionaries in `feasible_solutions` to find the feasible solution with the maximum total value. Print both the feasible solution (i.e. number of gold, silver, and platinum bars and coins to steal) as well as the maximum total value.\n",
    "\n",
    "_Hint_. You should find that the best feasible solution has a total value of 194486."
   ]
  },
  {
   "cell_type": "code",
   "execution_count": 8,
   "metadata": {
    "run_control": {
     "marked": false
    }
   },
   "outputs": [
    {
     "name": "stdout",
     "output_type": "stream",
     "text": [
      "Best solution: {'gold bars': 4, 'silver bars': 3, 'platinum bars': 11, 'gold coins': 26, 'silver coins': 0, 'platinum coins': 0, 'total value': 161686, 'total weight': 3000}\n",
      "\n",
      "Maximum total value = 194486\n"
     ]
    }
   ],
   "source": [
    "max_value = 0\n",
    "for k in feasible_solutions:\n",
    "    # finds solution with largest max_value, stores number of each metal \n",
    "    if k['total value'] > max_value:\n",
    "        max_value = k['total value']\n",
    "        best_solution = k\n",
    "        \n",
    "print(f\"Best solution: {k}\")\n",
    "print(f\"\\nMaximum total value = {max_value}\")"
   ]
  },
  {
   "cell_type": "markdown",
   "metadata": {},
   "source": [
    "### Part 3. Better planning"
   ]
  },
  {
   "cell_type": "markdown",
   "metadata": {},
   "source": [
    "The morning of the heist, you realized that you had better take into account the maximum _volume_ your knapsack can hold as well. Here's the new data:\n",
    "\n",
    "| Item            | Value (\\$/item) | Weight (g/item) | Volume (cm$^3$/item) | Number available |\n",
    "| --------------- | --------------- | --------------- | -------------------- | ---------------- |\n",
    "| Gold bar        | 5185            | 100             | 6                    | 4                |\n",
    "| Silver bar      | 475             | 700             | 67                   | 7                |\n",
    "| Platinum bar    | 10781           | 10              | 1                    | 11               |\n",
    "| Gold coin       | 805             | 15              | 1                    | 27               |\n",
    "| Silver coin     | 194             | 30              | 3                    | 49               |\n",
    "| Platinum coin   | 1087            | 25              | 2                    | 22               |\n",
    "\n",
    "The maximum weight your knapsack can hold is 3 kg. The maximum volume your knapsack can hold is 200 cm$^3$."
   ]
  },
  {
   "cell_type": "markdown",
   "metadata": {},
   "source": [
    "__(a)__ In the code cell below, define 4 dictionaries called `value`, `weight`, `volume`, and `available` that contain the data in the table above. In addition, define variables `max_weight` and `max_volume` that represent the maximum weight and volume your knapsack can hold."
   ]
  },
  {
   "cell_type": "code",
   "execution_count": 9,
   "metadata": {},
   "outputs": [],
   "source": [
    "# Value in dollars\n",
    "value = {\n",
    "    'gold bar': 5185,\n",
    "    'silver bar': 475,\n",
    "    'platinum bar': 10781,\n",
    "    'gold coin': 805,\n",
    "    'silver coin': 194,\n",
    "    'platinum coin': 1087\n",
    "}\n",
    "\n",
    "# Weight in grams\n",
    "weight = {\n",
    "    'gold bar': 100,\n",
    "    'silver bar': 700,\n",
    "    'platinum bar': 10,\n",
    "    'gold coin': 15,\n",
    "    'silver coin': 30,\n",
    "    'platinum coin': 25\n",
    "}\n",
    "\n",
    "# Volume in cm^3\n",
    "volume = {\n",
    "    'gold bar': 6,\n",
    "    'silver bar': 67,\n",
    "    'platinum bar': 1,\n",
    "    'gold coin': 1,\n",
    "    'silver coin': 3,\n",
    "    'platinum coin': 2\n",
    "}\n",
    "\n",
    "# Number of bars and coins in the vault\n",
    "available = {\n",
    "    'gold bar': 4,\n",
    "    'silver bar': 7,\n",
    "    'platinum bar': 11,\n",
    "    'gold coin': 27,\n",
    "    'silver coin': 49,\n",
    "    'platinum coin': 22\n",
    "}\n",
    "\n",
    "# Maximum weight the knapsack can hold\n",
    "max_weight = 3000\n",
    "\n",
    "# Maximum volume the knapsack can hold\n",
    "max_volume = 200"
   ]
  },
  {
   "cell_type": "markdown",
   "metadata": {},
   "source": [
    "__(b)__ In the code cell below, create a list of dictionaries called `feasible_solutions`, with each dictionary representing a feasible solution, just like you did in (b) in Part 2.\n",
    "\n",
    "Remember now that you need to check if the total volume of the items selected exceeds the maximum volume that the knapsack can hold. In addition, each dictionary representing a feasible solution should also contain information about the total volume."
   ]
  },
  {
   "cell_type": "code",
   "execution_count": 10,
   "metadata": {},
   "outputs": [],
   "source": [
    "feasible_solutions = []\n",
    "\n",
    "# possible number of gold bars\n",
    "for gb in range(available['gold bar'] + 1):\n",
    "    total_weight = 0\n",
    "    total_value = 0\n",
    "    total_volume = 0\n",
    "    # possible number of silver bars\n",
    "    for sb in range(available['silver bar'] + 1):\n",
    "        # possible number of platinum bars\n",
    "        for pb in range(available['platinum bar'] + 1):\n",
    "            # possible number of gold coins\n",
    "            for gc in range(available['gold coin'] + 1):\n",
    "                # possible number of silver coins\n",
    "                for sc in range(available['silver coin'] + 1):\n",
    "                    # possible number of platinum coins\n",
    "                    for pc in range(available['platinum coin'] + 1):\n",
    "                        total_weight = gb*weight['gold bar'] + sb*weight['silver bar'] + pb*weight['platinum bar']\n",
    "                        total_weight += gc*weight['gold coin'] + sc*weight['silver coin'] + pc*weight['platinum coin']\n",
    "                        \n",
    "                        total_value = gb*value['gold bar'] + sb*value['silver bar'] + pb*value['platinum bar']\n",
    "                        total_value += gc*value['gold coin'] + sc*value['silver coin'] + pc*value['platinum coin']\n",
    "\n",
    "                        total_volume = gb*volume['gold bar'] + sb*volume['silver bar'] + pb*volume['platinum bar']\n",
    "                        total_volume += gc*volume['gold coin'] + sc*volume['silver coin'] + pc*volume['platinum coin']\n",
    "                       \n",
    "                        # creates dictionary for feasible solution, adds it to the list\n",
    "                        if (total_weight <= max_weight) and (total_volume <= max_volume):\n",
    "                            new_solution = {\n",
    "                                'gold bars': gb,\n",
    "                                'silver bars': sb,\n",
    "                                'platinum bars': pb,\n",
    "                                'gold coins': gc,\n",
    "                                'silver coins': sc,\n",
    "                                'platinum coins': pc,\n",
    "                                'total value': total_value,\n",
    "                                'total weight': total_weight,\n",
    "                                'total volume': total_volume\n",
    "                            }\n",
    "                            feasible_solutions.append(new_solution)"
   ]
  },
  {
   "cell_type": "markdown",
   "metadata": {},
   "source": [
    "__(c)__ In the code cell below, use the list called `feasible_solutions` you created above to count the number of feasible solutions. Print this number."
   ]
  },
  {
   "cell_type": "code",
   "execution_count": 11,
   "metadata": {
    "scrolled": true
   },
   "outputs": [
    {
     "name": "stdout",
     "output_type": "stream",
     "text": [
      "3106787\n"
     ]
    }
   ],
   "source": [
    "print(len(feasible_solutions))"
   ]
  },
  {
   "cell_type": "markdown",
   "metadata": {},
   "source": [
    "__(d)__ Finally, in the code cell below, loop through all the dictionaries in `feasible_solutions` to find the feasible solution with the maximum total value. Print both the feasible solution (i.e. number of gold, silver, and platinum bars and coins to steal) as well as the maximum total value."
   ]
  },
  {
   "cell_type": "code",
   "execution_count": 12,
   "metadata": {},
   "outputs": [
    {
     "name": "stdout",
     "output_type": "stream",
     "text": [
      "Best solution: {'gold bars': 4, 'silver bars': 2, 'platinum bars': 11, 'gold coins': 27, 'silver coins': 1, 'platinum coins': 0, 'total value': 162210, 'total weight': 2345, 'total volume': 199}\n",
      "\n",
      "Maximum total value = 190994\n"
     ]
    }
   ],
   "source": [
    "max_value = 0\n",
    "for k in feasible_solutions:\n",
    "    # finds solution with largest max_value, stores number of each metal bar\n",
    "    if k['total value'] > max_value:\n",
    "        max_value = k['total value']\n",
    "        best_solution = k\n",
    "        \n",
    "print(f\"Best solution: {k}\")\n",
    "print(f\"\\nMaximum total value = {max_value}\")"
   ]
  },
  {
   "cell_type": "markdown",
   "metadata": {},
   "source": [
    "### Part 4. Food for thought."
   ]
  },
  {
   "cell_type": "markdown",
   "metadata": {},
   "source": [
    "__(a)__ How do the total values of the best feasible solutions you found in Parts 2 and 3 compare? Does it make sense?"
   ]
  },
  {
   "cell_type": "markdown",
   "metadata": {},
   "source": [
    "Part 3's total value for its best solution is less than that of part 2, which makes sense because part 3 has another constraint (total volume) which decreases the number of feasible solutions. "
   ]
  },
  {
   "cell_type": "markdown",
   "metadata": {},
   "source": [
    "__(b)__ How many possible solutions did you have check in Part 1? (How many iterations did your for loop have in Part 1(a)?) \n",
    "How would your answer change if the available number of each item doubled (8 gold bars, 14 silver bars, 22 platinum bars)? "
   ]
  },
  {
   "cell_type": "markdown",
   "metadata": {},
   "source": [
    "There were 480 solutions to check. If the number of each item was doubled, there would be 3105 solutions to check, as 9 * 15 * 23 = 3105. This is equivalent to (8+1)(14+1)(22+1); you add one to account for the possibility of 0 of one type of bar."
   ]
  },
  {
   "cell_type": "markdown",
   "metadata": {},
   "source": [
    "__(c)__ How would your answer to Part 2(b) change if there were 12 items instead of 6?"
   ]
  },
  {
   "cell_type": "markdown",
   "metadata": {},
   "source": [
    "I would need to have 6 more nested for loops to run through each possibility of the new 6 items. The values and weights of these new items would have to be added to the variables total_value and total_weight. The new items and their quantities would have to be added to the new_solution dictionary."
   ]
  },
  {
   "cell_type": "markdown",
   "metadata": {},
   "source": [
    "__(d)__ Do you think this brute-force approach is a good idea? Why or why not?"
   ]
  },
  {
   "cell_type": "markdown",
   "metadata": {},
   "source": [
    "No. The code has to run through millions of different possibilities which takes a lot of time. Many of these possibilities can be eliminated; for example, 0 of each item would not be worth testing. There must be a way to only consider solutions that are \"worth testing,\" such as solutions whose total weights/volumes are near the maximums."
   ]
  },
  {
   "cell_type": "markdown",
   "metadata": {},
   "source": [
    "----"
   ]
  },
  {
   "cell_type": "markdown",
   "metadata": {},
   "source": [
    "## When you're finished"
   ]
  },
  {
   "cell_type": "markdown",
   "metadata": {},
   "source": [
    "- Make sure your notebook runs from top to bottom with no errors. One way to accomplish this is to click on __Kernel &#8594; Restart & Run All__. This will restart Python, and run your notebook from top to bottom."
   ]
  },
  {
   "cell_type": "markdown",
   "metadata": {},
   "source": [
    "- Please list who you worked with (i.e. your group) and acknowledge any collaborators below:"
   ]
  },
  {
   "cell_type": "markdown",
   "metadata": {},
   "source": [
    "<span style=\"color:red\"><strong>Ram Krishnamoorthy.</strong></span>"
   ]
  },
  {
   "cell_type": "markdown",
   "metadata": {},
   "source": [
    "- When you're ready, submit this notebook to the course Blackboard site."
   ]
  },
  {
   "cell_type": "markdown",
   "metadata": {},
   "source": [
    "----"
   ]
  },
  {
   "cell_type": "markdown",
   "metadata": {},
   "source": [
    "## Grading"
   ]
  },
  {
   "cell_type": "markdown",
   "metadata": {},
   "source": [
    "Your work will be graded as follows (45 total points):\n",
    "\n",
    "- Creating the list of feasible solutions\n",
    "    - Nested for loop correctly implemented (Parts 1, 2, 3): 3 points\n",
    "    - Total value and weight correctly computed (Parts 1, 2 and 3): 3 points\n",
    "    - Total volume correctly computed (Part 3): 1 point\n",
    "    - Feasibility correctly checked for (Parts 1, 2, 3): 3 points\n",
    "    - Feasible solutions represented as dictionaries (Parts 1, 2, 3): 3 points\n",
    "    - List of feasible solutions correctly constructed (Parts 1, 2, 3): 3 points\n",
    "    - Number of feasible solutions correctly computed (Parts 1, 2, 3): 3 points\n",
    "\n",
    "\n",
    "- Translating data to dictionaries\n",
    "    - Dictionaries for item values correctly defined (Parts 2, 3): 2 points\n",
    "    - Dictionaries for item weights correctly defined (Parts 2, 3): 2 points\n",
    "    - Dictionaries for available numbers correctly defined (Parts 2, 3): 2 points\n",
    "    - Dictionary for item volumes correctly defined (Part 3): 1 point\n",
    "    - Variables for maximum weight and volume correctly defined (Parts 1, 2, 3): 1 point\n",
    "\n",
    "- Finding the best feasible solution\n",
    "    - For loop correctly implemented (Parts 1, 2, 3): 3 points\n",
    "    - Best feasible solution found and printed (Parts 1, 2, 3): 3 points\n",
    "    - Maximum total value found and printed (Parts 1, 2, 3): 3 points\n",
    "\n",
    "- Analysis (Part 4)\n",
    "    - Correct and clearly written answers to (a)-(d): 4 points\n",
    "\n",
    "- Documentation\n",
    "    - Comments throughout code describing logic in plain English: 5 points"
   ]
  }
 ],
 "metadata": {
  "kernelspec": {
   "display_name": "Python 3",
   "language": "python",
   "name": "python3"
  },
  "language_info": {
   "codemirror_mode": {
    "name": "ipython",
    "version": 3
   },
   "file_extension": ".py",
   "mimetype": "text/x-python",
   "name": "python",
   "nbconvert_exporter": "python",
   "pygments_lexer": "ipython3",
   "version": "3.8.5"
  }
 },
 "nbformat": 4,
 "nbformat_minor": 2
}
